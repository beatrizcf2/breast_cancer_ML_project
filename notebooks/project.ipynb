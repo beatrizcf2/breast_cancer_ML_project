{
 "cells": [
  {
   "attachments": {},
   "cell_type": "markdown",
   "metadata": {},
   "source": [
    "# Breast Cancer Diagnosis using Machine Learning: A CBIS-DDSM Image Dataset Analysis"
   ]
  },
  {
   "attachments": {},
   "cell_type": "markdown",
   "metadata": {},
   "source": [
    "## Introduction\n",
    "Breast cancer is one of the leading causes of death for women globally. Early detection is crucial for successful treatment and recovery. The CBIS-DDSM Breast Cancer Image Dataset is a publicly available dataset that contains mammography images for detecting breast cancer. In this project, we will use machine learning algorithms to build a model that can accurately classify mammography images as benign or malignant."
   ]
  },
  {
   "attachments": {},
   "cell_type": "markdown",
   "metadata": {},
   "source": [
    "## Dataset\n",
    "The CBIS-DDSM Breast Cancer Image Dataset is a comprehensive dataset that contains over 2,500 mammography images. The dataset includes images of both benign and malignant tumors. Each image in the dataset is labeled with its corresponding diagnosis."
   ]
  },
  {
   "cell_type": "code",
   "execution_count": 5,
   "metadata": {},
   "outputs": [],
   "source": [
    "# Set up Kaggle API credentials from environment variables\n",
    "import os\n",
    "from dotenv import load_dotenv\n",
    "import kaggle\n",
    "\n",
    "load_dotenv()\n",
    "os.environ['KAGGLE_USERNAME'] = os.getenv('KAGGLE_USERNAME')\n",
    "os.environ['KAGGLE_KEY'] = os.getenv('KAGGLE_KEY')\n",
    "data_dir = \"../data\"\n",
    "\n",
    "# Define the Kaggle datasets to download\n",
    "dataset_names = ['mukhazarahmad/worldwide-cancer-data']\n",
    "\n",
    "kaggle.api.authenticate()\n",
    "for dataset_name in dataset_names:\n",
    "    kaggle.api.dataset_download_files(dataset_name, path=data_dir, unzip=True)"
   ]
  },
  {
   "attachments": {},
   "cell_type": "markdown",
   "metadata": {},
   "source": [
    "## Data Preprocessing\n",
    "Before building our model, we need to preprocess the data. This includes loading the data, resizing the images, and splitting the dataset into training and testing sets. We can use the Python imaging library (PIL) to load and resize the images."
   ]
  },
  {
   "attachments": {},
   "cell_type": "markdown",
   "metadata": {},
   "source": [
    "## Building the Model\n",
    "To build our machine learning model, we will use a convolutional neural network (CNN). CNNs are particularly well-suited for image classification tasks. We will use the Keras library to build and train our CNN."
   ]
  },
  {
   "attachments": {},
   "cell_type": "markdown",
   "metadata": {},
   "source": [
    "## Evaluation\n",
    "Once our model is trained, we will evaluate its performance using the testing set. We will measure the accuracy, precision, recall, and F1 score of our model. We will also generate a confusion matrix to visualize the performance of our model."
   ]
  },
  {
   "cell_type": "markdown",
   "metadata": {},
   "source": [
    "\n",
    "## Conclusion\n",
    "In this project, we used the CBIS-DDSM Breast Cancer Image Dataset to build a machine learning model that can accurately classify mammography images as benign or malignant. Our model can be used as a tool to assist radiologists in detecting breast cancer early, ultimately leading to better patient outcomes."
   ]
  },
  {
   "cell_type": "code",
   "execution_count": null,
   "metadata": {},
   "outputs": [],
   "source": []
  }
 ],
 "metadata": {
  "kernelspec": {
   "display_name": ".venv",
   "language": "python",
   "name": "python3"
  },
  "language_info": {
   "codemirror_mode": {
    "name": "ipython",
    "version": 3
   },
   "file_extension": ".py",
   "mimetype": "text/x-python",
   "name": "python",
   "nbconvert_exporter": "python",
   "pygments_lexer": "ipython3",
   "version": "3.10.2"
  },
  "orig_nbformat": 4
 },
 "nbformat": 4,
 "nbformat_minor": 2
}
