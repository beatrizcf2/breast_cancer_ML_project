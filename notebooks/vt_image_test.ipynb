{
 "cells": [
  {
   "attachments": {},
   "cell_type": "markdown",
   "metadata": {},
   "source": [
    "# Testing image classification with vision transformer (ViT)\n",
    "\n",
    "source: https://keras.io/examples/vision/image_classification_with_vision_transformer/"
   ]
  },
  {
   "attachments": {},
   "cell_type": "markdown",
   "metadata": {},
   "source": [
    "## Setup"
   ]
  },
  {
   "cell_type": "code",
   "execution_count": null,
   "metadata": {},
   "outputs": [],
   "source": []
  },
  {
   "cell_type": "code",
   "execution_count": 3,
   "metadata": {},
   "outputs": [
    {
     "name": "stderr",
     "output_type": "stream",
     "text": [
      "2023-05-29 16:50:16.348071: I tensorflow/core/platform/cpu_feature_guard.cc:182] This TensorFlow binary is optimized to use available CPU instructions in performance-critical operations.\n",
      "To enable the following instructions: AVX2 FMA, in other operations, rebuild TensorFlow with the appropriate compiler flags.\n",
      "/Users/beatrizcf/Engenharia/8Semestre/machine/breastCancerProject/breast_cancer_ML_project/.venv/lib/python3.10/site-packages/tensorflow_addons/utils/tfa_eol_msg.py:23: UserWarning: \n",
      "\n",
      "TensorFlow Addons (TFA) has ended development and introduction of new features.\n",
      "TFA has entered a minimal maintenance and release mode until a planned end of life in May 2024.\n",
      "Please modify downstream libraries to take dependencies from other repositories in our TensorFlow community (e.g. Keras, Keras-CV, and Keras-NLP). \n",
      "\n",
      "For more information see: https://github.com/tensorflow/addons/issues/2807 \n",
      "\n",
      "  warnings.warn(\n"
     ]
    }
   ],
   "source": [
    "import numpy as np\n",
    "import tensorflow as tf\n",
    "from tensorflow import keras\n",
    "from tensorflow.keras import layers\n",
    "import tensorflow_addons as tfa"
   ]
  },
  {
   "cell_type": "code",
   "execution_count": 4,
   "metadata": {},
   "outputs": [],
   "source": [
    "# import ssl to download keras data\n",
    "import ssl\n",
    "ssl._create_default_https_context = ssl._create_unverified_context"
   ]
  },
  {
   "attachments": {},
   "cell_type": "markdown",
   "metadata": {},
   "source": [
    "## Prepare the data"
   ]
  },
  {
   "cell_type": "code",
   "execution_count": 9,
   "metadata": {},
   "outputs": [
    {
     "name": "stdout",
     "output_type": "stream",
     "text": [
      "x_train shape: (50000, 32, 32, 3) - y_train shape: (50000, 1)\n",
      "x_test shape: (10000, 32, 32, 3) - y_test shape: (10000, 1)\n"
     ]
    }
   ],
   "source": [
    "num_classes = 100\n",
    "input_shape = (32, 32, 3)\n",
    "\n",
    "(x_train_full, y_train_full), (x_test_full, y_test_full) = keras.datasets.cifar100.load_data()\n",
    "\n",
    "print(f\"x_train shape: {x_train.shape} - y_train shape: {y_train.shape}\")\n",
    "print(f\"x_test shape: {x_test.shape} - y_test shape: {y_test.shape}\")"
   ]
  },
  {
   "cell_type": "code",
   "execution_count": 10,
   "metadata": {},
   "outputs": [
    {
     "name": "stdout",
     "output_type": "stream",
     "text": [
      "x_train shape: (1000, 32, 32, 3) - y_train shape: (1000, 1)\n",
      "x_test shape: (100, 32, 32, 3) - y_test shape: (100, 1)\n"
     ]
    }
   ],
   "source": [
    "# Randomly select 1000 images for training\n",
    "random_indices_train = np.random.choice(len(x_train_full), size=1000, replace=False)\n",
    "x_train = x_train_full[random_indices_train]\n",
    "y_train = y_train_full[random_indices_train]\n",
    "\n",
    "# Randomly select 100 images for testing\n",
    "random_indices_test = np.random.choice(len(x_test_full), size=100, replace=False)\n",
    "x_test = x_test_full[random_indices_test]\n",
    "y_test = y_test_full[random_indices_test]\n",
    "\n",
    "print(f\"x_train shape: {x_train.shape} - y_train shape: {y_train.shape}\")\n",
    "print(f\"x_test shape: {x_test.shape} - y_test shape: {y_test.shape}\")"
   ]
  },
  {
   "attachments": {},
   "cell_type": "markdown",
   "metadata": {},
   "source": [
    "## Configure the hyperparameters"
   ]
  },
  {
   "cell_type": "code",
   "execution_count": 11,
   "metadata": {},
   "outputs": [],
   "source": [
    "learning_rate = 0.001  # Learning rate for the optimizer\n",
    "weight_decay = 0.0001  # Weight decay regularization parameter\n",
    "batch_size = 256  # Number of samples in each training batch\n",
    "num_epochs = 100  # Number of training epochs - complete pass through the entire training dataset\n",
    "image_size = 72  # The size to which input images will be resized\n",
    "patch_size = 6  # Size of the patches to be extracted from the input images\n",
    "num_patches = (image_size // patch_size) ** 2  # Number of patches in the image grid\n",
    "projection_dim = 64  # Dimensionality of the projected feature space in the self-attention layer\n",
    "num_heads = 4  # Number of attention heads in the self-attention layer\n",
    "transformer_units = [\n",
    "    projection_dim * 2,\n",
    "    projection_dim,\n",
    "]  # Size of the transformer layers\n",
    "transformer_layers = 8  # Number of transformer layers\n",
    "mlp_head_units = [2048, 1024]  # Size of the dense layers of the final classifier\n"
   ]
  },
  {
   "attachments": {},
   "cell_type": "markdown",
   "metadata": {},
   "source": [
    "## Use data augmentation"
   ]
  },
  {
   "cell_type": "code",
   "execution_count": 12,
   "metadata": {},
   "outputs": [],
   "source": [
    "data_augmentation = keras.Sequential(\n",
    "    [\n",
    "        layers.Normalization(),\n",
    "        layers.Resizing(image_size, image_size),\n",
    "        layers.RandomFlip(\"horizontal\"),\n",
    "        layers.RandomRotation(factor=0.02),\n",
    "        layers.RandomZoom(\n",
    "            height_factor=0.2, width_factor=0.2\n",
    "        ),\n",
    "    ],\n",
    "    name=\"data_augmentation\",\n",
    ")\n",
    "# Compute the mean and the variance of the training data for normalization.\n",
    "data_augmentation.layers[0].adapt(x_train)"
   ]
  },
  {
   "attachments": {},
   "cell_type": "markdown",
   "metadata": {},
   "source": [
    "## Implement MLP\n",
    "\n",
    "Multilayer perceptron (MLP) is a type of neural network that consists in one or more layers of interconnected nodes, called neurons. The first layer is the input layer, the last layer is the output layer and the layers in between are called the hidden layers, because it's not possible to predict their outputs. \n",
    "\n",
    "Training an MLP is normally done using an optimization algorithm called backpropagation, which calculates the gradients of the error with respect to the weights and updates them accordingly. There are basically 4 steps:\n",
    "\n",
    "* 1st Step: Initialization\n",
    "  * Assign random values to weights and biases.\n",
    "  * The choice of initial values influences the behavior of the network.\n",
    "  * In the absence of prior knowledge, weights and biases should have random and small uniformly distributed initial values.\n",
    "\n",
    "\n",
    "* 2nd Step: Activation\n",
    "  * Calculate the values of neurons in the hidden layer.\n",
    "  * Calculate the values of neurons in the output layer.\n",
    "\n",
    "\n",
    "* 3rd Step: Weight Training\n",
    "  * Calculate the errors of neurons in the output and hidden layers.\n",
    "  * Calculate the weight correction.\n",
    "  * Update the weights of neurons in the output and hidden layers.\n",
    "\n",
    "\n",
    "* 4th Step: Iteration\n",
    "  * Repeat the process from step 2 until the error criterion is satisfied."
   ]
  },
  {
   "cell_type": "code",
   "execution_count": 13,
   "metadata": {},
   "outputs": [],
   "source": [
    "def mlp(x, hidden_units, dropout_rate):\n",
    "    for units in hidden_units:  # Iterate over the hidden_units list\n",
    "        x = layers.Dense(units, activation=tf.nn.gelu)(x)  # Add a dense layer with specified units and GELU activation\n",
    "        x = layers.Dropout(dropout_rate)(x)  # Add a dropout layer with specified dropout rate\n",
    "    return x  # Return the output of the MLP\n"
   ]
  },
  {
   "attachments": {},
   "cell_type": "markdown",
   "metadata": {},
   "source": [
    "The mlp function implements a multilayer perceptron (MLP) with GELU activation and dropout regularization. It takes an input tensor x, hidden layer sizes specified by hidden_units, and a dropout rate. It adds dense layers with GELU activation and dropout layers to the model. The loop iterates over the hidden layer sizes, creating a stack of layers. The resulting tensor x is returned as the MLP's output. This function provides a flexible and customizable way to construct MLPs for various tasks."
   ]
  },
  {
   "attachments": {},
   "cell_type": "markdown",
   "metadata": {},
   "source": [
    "## Implement patch creation as a layer"
   ]
  },
  {
   "cell_type": "code",
   "execution_count": 14,
   "metadata": {},
   "outputs": [],
   "source": [
    "class Patches(layers.Layer):\n",
    "    def __init__(self, patch_size):\n",
    "        super().__init__()\n",
    "        self.patch_size = patch_size  # Initialize the patch_size attribute\n",
    "    \n",
    "    def call(self, images):\n",
    "        batch_size = tf.shape(images)[0]  # Get the batch size of the input images\n",
    "        \n",
    "        # Extract patches from the images using specified parameters\n",
    "        patches = tf.image.extract_patches(\n",
    "            images=images,\n",
    "            sizes=[1, self.patch_size, self.patch_size, 1],\n",
    "            strides=[1, self.patch_size, self.patch_size, 1],\n",
    "            rates=[1, 1, 1, 1],\n",
    "            padding=\"VALID\",\n",
    "        )\n",
    "        \n",
    "        patch_dims = patches.shape[-1]  # Get the number of dimensions of the patches\n",
    "        patches = tf.reshape(patches, [batch_size, -1, patch_dims])  # Reshape patches into a 2D tensor\n",
    "        \n",
    "        return patches  # Return the extracted and reshaped patches\n"
   ]
  },
  {
   "cell_type": "code",
   "execution_count": 15,
   "metadata": {},
   "outputs": [
    {
     "name": "stdout",
     "output_type": "stream",
     "text": [
      "Image size: 72 X 72\n",
      "Patch size: 6 X 6\n",
      "Patches per image: 144\n",
      "Elements per patch: 108\n"
     ]
    },
    {
     "data": {
      "image/png": "[encoded data removed]",
      "text/plain": [
       "<Figure size 400x400 with 1 Axes>"
      ]
     },
     "metadata": {},
     "output_type": "display_data"
    },
    {
     "data": {
      "image/png": "[encoded data removed]",
      "text/plain": [
       "<Figure size 400x400 with 144 Axes>"
      ]
     },
     "metadata": {},
     "output_type": "display_data"
    }
   ],
   "source": [
    "# display patches for a sample image\n",
    "import matplotlib.pyplot as plt\n",
    "\n",
    "plt.figure(figsize=(4, 4))\n",
    "image = x_train[np.random.choice(range(x_train.shape[0]))]\n",
    "plt.imshow(image.astype(\"uint8\"))\n",
    "plt.axis(\"off\")\n",
    "\n",
    "resized_image = tf.image.resize(\n",
    "    tf.convert_to_tensor([image]), size=(image_size, image_size)\n",
    ")\n",
    "patches = Patches(patch_size)(resized_image)\n",
    "print(f\"Image size: {image_size} X {image_size}\")\n",
    "print(f\"Patch size: {patch_size} X {patch_size}\")\n",
    "print(f\"Patches per image: {patches.shape[1]}\")\n",
    "print(f\"Elements per patch: {patches.shape[-1]}\")\n",
    "\n",
    "n = int(np.sqrt(patches.shape[1]))\n",
    "plt.figure(figsize=(4, 4))\n",
    "for i, patch in enumerate(patches[0]):\n",
    "    ax = plt.subplot(n, n, i + 1)\n",
    "    patch_img = tf.reshape(patch, (patch_size, patch_size, 3))\n",
    "    plt.imshow(patch_img.numpy().astype(\"uint8\"))\n",
    "    plt.axis(\"off\")"
   ]
  },
  {
   "attachments": {},
   "cell_type": "markdown",
   "metadata": {},
   "source": [
    "## Implement the patch encoding layer\n",
    "The PatchEncoder layer will linearly transform a patch by projecting it into a vector of size projection_dim. In addition, it adds a learnable position embedding to the projected vector."
   ]
  },
  {
   "cell_type": "code",
   "execution_count": 16,
   "metadata": {},
   "outputs": [],
   "source": [
    "class PatchEncoder(layers.Layer):\n",
    "    def __init__(self, num_patches, projection_dim):\n",
    "        super().__init__()\n",
    "        self.num_patches = num_patches  # Number of patches in the input\n",
    "        self.projection = layers.Dense(units=projection_dim)  # Linear projection layer\n",
    "        self.position_embedding = layers.Embedding(\n",
    "            input_dim=num_patches, output_dim=projection_dim\n",
    "        )  # Positional embedding layer\n",
    "\n",
    "    def call(self, patch):\n",
    "        positions = tf.range(start=0, limit=self.num_patches, delta=1)  # Generate positions for positional encoding\n",
    "        encoded = self.projection(patch) + self.position_embedding(positions)  # Combine projection and positional embedding\n",
    "        return encoded  # Return the encoded patch\n"
   ]
  },
  {
   "attachments": {},
   "cell_type": "markdown",
   "metadata": {},
   "source": [
    "## Build the ViT model"
   ]
  },
  {
   "cell_type": "code",
   "execution_count": 17,
   "metadata": {},
   "outputs": [],
   "source": [
    "def create_vit_classifier():\n",
    "    inputs = layers.Input(shape=input_shape)\n",
    "    # Augment data.\n",
    "    augmented = data_augmentation(inputs)\n",
    "    # Create patches.\n",
    "    patches = Patches(patch_size)(augmented)\n",
    "    # Encode patches.\n",
    "    encoded_patches = PatchEncoder(num_patches, projection_dim)(patches)\n",
    "\n",
    "    # Create multiple layers of the Transformer block.\n",
    "    for _ in range(transformer_layers):\n",
    "        # Layer normalization 1.\n",
    "        x1 = layers.LayerNormalization(epsilon=1e-6)(encoded_patches)\n",
    "        # Create a multi-head attention layer.\n",
    "        attention_output = layers.MultiHeadAttention(\n",
    "            num_heads=num_heads, key_dim=projection_dim, dropout=0.1\n",
    "        )(x1, x1)\n",
    "        # Skip connection 1.\n",
    "        x2 = layers.Add()([attention_output, encoded_patches])\n",
    "        # Layer normalization 2.\n",
    "        x3 = layers.LayerNormalization(epsilon=1e-6)(x2)\n",
    "        # MLP.\n",
    "        x3 = mlp(x3, hidden_units=transformer_units, dropout_rate=0.1)\n",
    "        # Skip connection 2.\n",
    "        encoded_patches = layers.Add()([x3, x2])\n",
    "\n",
    "    # Create a [batch_size, projection_dim] tensor.\n",
    "    representation = layers.LayerNormalization(epsilon=1e-6)(encoded_patches)\n",
    "    representation = layers.Flatten()(representation)\n",
    "    representation = layers.Dropout(0.5)(representation)\n",
    "    # Add MLP.\n",
    "    features = mlp(representation, hidden_units=mlp_head_units, dropout_rate=0.5)\n",
    "    # Classify outputs.\n",
    "    logits = layers.Dense(num_classes)(features)\n",
    "    # Create the Keras model.\n",
    "    model = keras.Model(inputs=inputs, outputs=logits)\n",
    "    return model"
   ]
  },
  {
   "attachments": {},
   "cell_type": "markdown",
   "metadata": {},
   "source": [
    "## Compile, train, and evaluate the mode\n"
   ]
  },
  {
   "cell_type": "code",
   "execution_count": 18,
   "metadata": {},
   "outputs": [
    {
     "name": "stdout",
     "output_type": "stream",
     "text": [
      "Epoch 1/100\n",
      "4/4 [==============================] - 131s 26s/step - loss: 7.1379 - accuracy: 0.0122 - top-5-accuracy: 0.0489 - val_loss: 4.6395 - val_accuracy: 0.0000e+00 - val_top-5-accuracy: 0.0700\n",
      "Epoch 2/100\n",
      "4/4 [==============================] - 138s 38s/step - loss: 5.3708 - accuracy: 0.0189 - top-5-accuracy: 0.0922 - val_loss: 4.5789 - val_accuracy: 0.0200 - val_top-5-accuracy: 0.1100\n",
      "Epoch 3/100\n",
      "4/4 [==============================] - 193s 56s/step - loss: 4.9336 - accuracy: 0.0289 - top-5-accuracy: 0.0800 - val_loss: 4.5130 - val_accuracy: 0.0400 - val_top-5-accuracy: 0.1500\n",
      "Epoch 4/100\n",
      "4/4 [==============================] - 970s 315s/step - loss: 4.7856 - accuracy: 0.0367 - top-5-accuracy: 0.1189 - val_loss: 4.5041 - val_accuracy: 0.0100 - val_top-5-accuracy: 0.1000\n",
      "Epoch 5/100\n",
      "4/4 [==============================] - 139s 37s/step - loss: 4.6388 - accuracy: 0.0356 - top-5-accuracy: 0.1433 - val_loss: 4.4957 - val_accuracy: 0.0000e+00 - val_top-5-accuracy: 0.0700\n",
      "Epoch 6/100\n",
      "4/4 [==============================] - 146s 36s/step - loss: 4.5151 - accuracy: 0.0389 - top-5-accuracy: 0.1633 - val_loss: 4.5260 - val_accuracy: 0.0200 - val_top-5-accuracy: 0.0900\n",
      "Epoch 7/100\n",
      "4/4 [==============================] - 116s 31s/step - loss: 4.4540 - accuracy: 0.0556 - top-5-accuracy: 0.1811 - val_loss: 4.5210 - val_accuracy: 0.0200 - val_top-5-accuracy: 0.1000\n",
      "Epoch 8/100\n",
      "4/4 [==============================] - 128s 31s/step - loss: 4.3458 - accuracy: 0.0611 - top-5-accuracy: 0.1856 - val_loss: 4.4799 - val_accuracy: 0.0600 - val_top-5-accuracy: 0.1300\n",
      "Epoch 9/100\n",
      "4/4 [==============================] - 105s 23s/step - loss: 4.3513 - accuracy: 0.0544 - top-5-accuracy: 0.1822 - val_loss: 4.4888 - val_accuracy: 0.0400 - val_top-5-accuracy: 0.1000\n",
      "Epoch 10/100\n",
      "4/4 [==============================] - 113s 30s/step - loss: 4.1996 - accuracy: 0.0844 - top-5-accuracy: 0.2322 - val_loss: 4.4209 - val_accuracy: 0.0100 - val_top-5-accuracy: 0.1200\n",
      "Epoch 11/100\n",
      "4/4 [==============================] - 91s 21s/step - loss: 4.2038 - accuracy: 0.1044 - top-5-accuracy: 0.2422 - val_loss: 4.3409 - val_accuracy: 0.0500 - val_top-5-accuracy: 0.1800\n",
      "Epoch 12/100\n",
      "4/4 [==============================] - 178s 37s/step - loss: 4.0476 - accuracy: 0.0944 - top-5-accuracy: 0.2767 - val_loss: 4.3228 - val_accuracy: 0.0700 - val_top-5-accuracy: 0.2100\n",
      "Epoch 13/100\n",
      "4/4 [==============================] - 90s 20s/step - loss: 4.0367 - accuracy: 0.0844 - top-5-accuracy: 0.2678 - val_loss: 4.3193 - val_accuracy: 0.0400 - val_top-5-accuracy: 0.2300\n",
      "Epoch 14/100\n",
      "4/4 [==============================] - 102s 24s/step - loss: 4.0117 - accuracy: 0.0878 - top-5-accuracy: 0.2844 - val_loss: 4.3419 - val_accuracy: 0.0600 - val_top-5-accuracy: 0.2300\n",
      "Epoch 15/100\n",
      "4/4 [==============================] - 128s 29s/step - loss: 3.8816 - accuracy: 0.1078 - top-5-accuracy: 0.3289 - val_loss: 4.4279 - val_accuracy: 0.0500 - val_top-5-accuracy: 0.2100\n",
      "Epoch 16/100\n",
      "4/4 [==============================] - 2194s 132s/step - loss: 3.8346 - accuracy: 0.1289 - top-5-accuracy: 0.3433 - val_loss: 4.4248 - val_accuracy: 0.0300 - val_top-5-accuracy: 0.1100\n",
      "Epoch 17/100\n",
      "4/4 [==============================] - 2458s 49s/step - loss: 3.7365 - accuracy: 0.1233 - top-5-accuracy: 0.3444 - val_loss: 4.4150 - val_accuracy: 0.0100 - val_top-5-accuracy: 0.1400\n",
      "Epoch 18/100\n",
      "4/4 [==============================] - 118s 23s/step - loss: 3.6515 - accuracy: 0.1511 - top-5-accuracy: 0.3889 - val_loss: 4.3894 - val_accuracy: 0.0200 - val_top-5-accuracy: 0.1800\n",
      "Epoch 19/100\n",
      "4/4 [==============================] - 96s 25s/step - loss: 3.6514 - accuracy: 0.1344 - top-5-accuracy: 0.3922 - val_loss: 4.3774 - val_accuracy: 0.0300 - val_top-5-accuracy: 0.1700\n",
      "Epoch 20/100\n",
      "4/4 [==============================] - 164s 45s/step - loss: 3.5774 - accuracy: 0.1578 - top-5-accuracy: 0.3978 - val_loss: 4.4291 - val_accuracy: 0.0300 - val_top-5-accuracy: 0.1700\n",
      "Epoch 21/100\n",
      "4/4 [==============================] - 263s 42s/step - loss: 3.4742 - accuracy: 0.1778 - top-5-accuracy: 0.4500 - val_loss: 4.4971 - val_accuracy: 0.0400 - val_top-5-accuracy: 0.1400\n",
      "Epoch 22/100\n",
      "4/4 [==============================] - 118s 27s/step - loss: 3.3945 - accuracy: 0.1856 - top-5-accuracy: 0.4400 - val_loss: 4.4586 - val_accuracy: 0.0600 - val_top-5-accuracy: 0.1900\n",
      "Epoch 23/100\n",
      "4/4 [==============================] - 118s 27s/step - loss: 3.2760 - accuracy: 0.1900 - top-5-accuracy: 0.4967 - val_loss: 4.4990 - val_accuracy: 0.0400 - val_top-5-accuracy: 0.1600\n",
      "Epoch 24/100\n",
      "4/4 [==============================] - 125s 31s/step - loss: 3.1952 - accuracy: 0.2211 - top-5-accuracy: 0.4944 - val_loss: 4.4149 - val_accuracy: 0.0600 - val_top-5-accuracy: 0.2500\n",
      "Epoch 25/100\n",
      "4/4 [==============================] - 201s 54s/step - loss: 3.1073 - accuracy: 0.2311 - top-5-accuracy: 0.5256 - val_loss: 4.4066 - val_accuracy: 0.0700 - val_top-5-accuracy: 0.2300\n",
      "Epoch 26/100\n",
      "4/4 [==============================] - 210s 46s/step - loss: 3.0684 - accuracy: 0.2356 - top-5-accuracy: 0.5256 - val_loss: 4.4915 - val_accuracy: 0.0900 - val_top-5-accuracy: 0.2300\n",
      "Epoch 27/100\n",
      "4/4 [==============================] - 141s 35s/step - loss: 2.9867 - accuracy: 0.2589 - top-5-accuracy: 0.5589 - val_loss: 4.4532 - val_accuracy: 0.0700 - val_top-5-accuracy: 0.2600\n",
      "Epoch 28/100\n",
      "4/4 [==============================] - 133s 32s/step - loss: 2.8197 - accuracy: 0.2800 - top-5-accuracy: 0.5867 - val_loss: 4.5216 - val_accuracy: 0.0800 - val_top-5-accuracy: 0.2600\n",
      "Epoch 29/100\n",
      "4/4 [==============================] - 135s 26s/step - loss: 2.8797 - accuracy: 0.2833 - top-5-accuracy: 0.5978 - val_loss: 4.4873 - val_accuracy: 0.0800 - val_top-5-accuracy: 0.2700\n",
      "Epoch 30/100\n",
      "4/4 [==============================] - 133s 34s/step - loss: 2.6975 - accuracy: 0.3056 - top-5-accuracy: 0.6144 - val_loss: 4.6422 - val_accuracy: 0.0900 - val_top-5-accuracy: 0.2400\n",
      "Epoch 31/100\n",
      "4/4 [==============================] - 209s 57s/step - loss: 2.6891 - accuracy: 0.3289 - top-5-accuracy: 0.6033 - val_loss: 4.5874 - val_accuracy: 0.0400 - val_top-5-accuracy: 0.2800\n",
      "Epoch 32/100\n",
      "2/4 [==============>...............] - ETA: 2:05 - loss: 2.5288 - accuracy: 0.3574 - top-5-accuracy: 0.6641"
     ]
    },
    {
     "ename": "KeyboardInterrupt",
     "evalue": "",
     "output_type": "error",
     "traceback": [
      "\u001b[0;31m---------------------------------------------------------------------------\u001b[0m",
      "\u001b[0;31mKeyboardInterrupt\u001b[0m                         Traceback (most recent call last)",
      "Cell \u001b[0;32mIn[18], line 41\u001b[0m\n\u001b[1;32m     37\u001b[0m     \u001b[39mreturn\u001b[39;00m history\n\u001b[1;32m     40\u001b[0m vit_classifier \u001b[39m=\u001b[39m create_vit_classifier()\n\u001b[0;32m---> 41\u001b[0m history \u001b[39m=\u001b[39m run_experiment(vit_classifier)\n",
      "Cell \u001b[0;32mIn[18], line 23\u001b[0m, in \u001b[0;36mrun_experiment\u001b[0;34m(model)\u001b[0m\n\u001b[1;32m     15\u001b[0m checkpoint_filepath \u001b[39m=\u001b[39m \u001b[39m\"\u001b[39m\u001b[39m/tmp/checkpoint\u001b[39m\u001b[39m\"\u001b[39m\n\u001b[1;32m     16\u001b[0m checkpoint_callback \u001b[39m=\u001b[39m keras\u001b[39m.\u001b[39mcallbacks\u001b[39m.\u001b[39mModelCheckpoint(\n\u001b[1;32m     17\u001b[0m     checkpoint_filepath,\n\u001b[1;32m     18\u001b[0m     monitor\u001b[39m=\u001b[39m\u001b[39m\"\u001b[39m\u001b[39mval_accuracy\u001b[39m\u001b[39m\"\u001b[39m,\n\u001b[1;32m     19\u001b[0m     save_best_only\u001b[39m=\u001b[39m\u001b[39mTrue\u001b[39;00m,\n\u001b[1;32m     20\u001b[0m     save_weights_only\u001b[39m=\u001b[39m\u001b[39mTrue\u001b[39;00m,\n\u001b[1;32m     21\u001b[0m )\n\u001b[0;32m---> 23\u001b[0m history \u001b[39m=\u001b[39m model\u001b[39m.\u001b[39;49mfit(\n\u001b[1;32m     24\u001b[0m     x\u001b[39m=\u001b[39;49mx_train,\n\u001b[1;32m     25\u001b[0m     y\u001b[39m=\u001b[39;49my_train,\n\u001b[1;32m     26\u001b[0m     batch_size\u001b[39m=\u001b[39;49mbatch_size,\n\u001b[1;32m     27\u001b[0m     epochs\u001b[39m=\u001b[39;49mnum_epochs,\n\u001b[1;32m     28\u001b[0m     validation_split\u001b[39m=\u001b[39;49m\u001b[39m0.1\u001b[39;49m,\n\u001b[1;32m     29\u001b[0m     callbacks\u001b[39m=\u001b[39;49m[checkpoint_callback],\n\u001b[1;32m     30\u001b[0m )\n\u001b[1;32m     32\u001b[0m model\u001b[39m.\u001b[39mload_weights(checkpoint_filepath)\n\u001b[1;32m     33\u001b[0m _, accuracy, top_5_accuracy \u001b[39m=\u001b[39m model\u001b[39m.\u001b[39mevaluate(x_test, y_test)\n",
      "File \u001b[0;32m~/Engenharia/8Semestre/machine/breastCancerProject/breast_cancer_ML_project/.venv/lib/python3.10/site-packages/keras/utils/traceback_utils.py:65\u001b[0m, in \u001b[0;36mfilter_traceback.<locals>.error_handler\u001b[0;34m(*args, **kwargs)\u001b[0m\n\u001b[1;32m     63\u001b[0m filtered_tb \u001b[39m=\u001b[39m \u001b[39mNone\u001b[39;00m\n\u001b[1;32m     64\u001b[0m \u001b[39mtry\u001b[39;00m:\n\u001b[0;32m---> 65\u001b[0m     \u001b[39mreturn\u001b[39;00m fn(\u001b[39m*\u001b[39;49margs, \u001b[39m*\u001b[39;49m\u001b[39m*\u001b[39;49mkwargs)\n\u001b[1;32m     66\u001b[0m \u001b[39mexcept\u001b[39;00m \u001b[39mException\u001b[39;00m \u001b[39mas\u001b[39;00m e:\n\u001b[1;32m     67\u001b[0m     filtered_tb \u001b[39m=\u001b[39m _process_traceback_frames(e\u001b[39m.\u001b[39m__traceback__)\n",
      "File \u001b[0;32m~/Engenharia/8Semestre/machine/breastCancerProject/breast_cancer_ML_project/.venv/lib/python3.10/site-packages/keras/engine/training.py:1685\u001b[0m, in \u001b[0;36mModel.fit\u001b[0;34m(self, x, y, batch_size, epochs, verbose, callbacks, validation_split, validation_data, shuffle, class_weight, sample_weight, initial_epoch, steps_per_epoch, validation_steps, validation_batch_size, validation_freq, max_queue_size, workers, use_multiprocessing)\u001b[0m\n\u001b[1;32m   1677\u001b[0m \u001b[39mwith\u001b[39;00m tf\u001b[39m.\u001b[39mprofiler\u001b[39m.\u001b[39mexperimental\u001b[39m.\u001b[39mTrace(\n\u001b[1;32m   1678\u001b[0m     \u001b[39m\"\u001b[39m\u001b[39mtrain\u001b[39m\u001b[39m\"\u001b[39m,\n\u001b[1;32m   1679\u001b[0m     epoch_num\u001b[39m=\u001b[39mepoch,\n\u001b[0;32m   (...)\u001b[0m\n\u001b[1;32m   1682\u001b[0m     _r\u001b[39m=\u001b[39m\u001b[39m1\u001b[39m,\n\u001b[1;32m   1683\u001b[0m ):\n\u001b[1;32m   1684\u001b[0m     callbacks\u001b[39m.\u001b[39mon_train_batch_begin(step)\n\u001b[0;32m-> 1685\u001b[0m     tmp_logs \u001b[39m=\u001b[39m \u001b[39mself\u001b[39;49m\u001b[39m.\u001b[39;49mtrain_function(iterator)\n\u001b[1;32m   1686\u001b[0m     \u001b[39mif\u001b[39;00m data_handler\u001b[39m.\u001b[39mshould_sync:\n\u001b[1;32m   1687\u001b[0m         context\u001b[39m.\u001b[39masync_wait()\n",
      "File \u001b[0;32m~/Engenharia/8Semestre/machine/breastCancerProject/breast_cancer_ML_project/.venv/lib/python3.10/site-packages/tensorflow/python/util/traceback_utils.py:150\u001b[0m, in \u001b[0;36mfilter_traceback.<locals>.error_handler\u001b[0;34m(*args, **kwargs)\u001b[0m\n\u001b[1;32m    148\u001b[0m filtered_tb \u001b[39m=\u001b[39m \u001b[39mNone\u001b[39;00m\n\u001b[1;32m    149\u001b[0m \u001b[39mtry\u001b[39;00m:\n\u001b[0;32m--> 150\u001b[0m   \u001b[39mreturn\u001b[39;00m fn(\u001b[39m*\u001b[39;49margs, \u001b[39m*\u001b[39;49m\u001b[39m*\u001b[39;49mkwargs)\n\u001b[1;32m    151\u001b[0m \u001b[39mexcept\u001b[39;00m \u001b[39mException\u001b[39;00m \u001b[39mas\u001b[39;00m e:\n\u001b[1;32m    152\u001b[0m   filtered_tb \u001b[39m=\u001b[39m _process_traceback_frames(e\u001b[39m.\u001b[39m__traceback__)\n",
      "File \u001b[0;32m~/Engenharia/8Semestre/machine/breastCancerProject/breast_cancer_ML_project/.venv/lib/python3.10/site-packages/tensorflow/python/eager/polymorphic_function/polymorphic_function.py:894\u001b[0m, in \u001b[0;36mFunction.__call__\u001b[0;34m(self, *args, **kwds)\u001b[0m\n\u001b[1;32m    891\u001b[0m compiler \u001b[39m=\u001b[39m \u001b[39m\"\u001b[39m\u001b[39mxla\u001b[39m\u001b[39m\"\u001b[39m \u001b[39mif\u001b[39;00m \u001b[39mself\u001b[39m\u001b[39m.\u001b[39m_jit_compile \u001b[39melse\u001b[39;00m \u001b[39m\"\u001b[39m\u001b[39mnonXla\u001b[39m\u001b[39m\"\u001b[39m\n\u001b[1;32m    893\u001b[0m \u001b[39mwith\u001b[39;00m OptionalXlaContext(\u001b[39mself\u001b[39m\u001b[39m.\u001b[39m_jit_compile):\n\u001b[0;32m--> 894\u001b[0m   result \u001b[39m=\u001b[39m \u001b[39mself\u001b[39;49m\u001b[39m.\u001b[39;49m_call(\u001b[39m*\u001b[39;49margs, \u001b[39m*\u001b[39;49m\u001b[39m*\u001b[39;49mkwds)\n\u001b[1;32m    896\u001b[0m new_tracing_count \u001b[39m=\u001b[39m \u001b[39mself\u001b[39m\u001b[39m.\u001b[39mexperimental_get_tracing_count()\n\u001b[1;32m    897\u001b[0m without_tracing \u001b[39m=\u001b[39m (tracing_count \u001b[39m==\u001b[39m new_tracing_count)\n",
      "File \u001b[0;32m~/Engenharia/8Semestre/machine/breastCancerProject/breast_cancer_ML_project/.venv/lib/python3.10/site-packages/tensorflow/python/eager/polymorphic_function/polymorphic_function.py:926\u001b[0m, in \u001b[0;36mFunction._call\u001b[0;34m(self, *args, **kwds)\u001b[0m\n\u001b[1;32m    923\u001b[0m   \u001b[39mself\u001b[39m\u001b[39m.\u001b[39m_lock\u001b[39m.\u001b[39mrelease()\n\u001b[1;32m    924\u001b[0m   \u001b[39m# In this case we have created variables on the first call, so we run the\u001b[39;00m\n\u001b[1;32m    925\u001b[0m   \u001b[39m# defunned version which is guaranteed to never create variables.\u001b[39;00m\n\u001b[0;32m--> 926\u001b[0m   \u001b[39mreturn\u001b[39;00m \u001b[39mself\u001b[39;49m\u001b[39m.\u001b[39;49m_no_variable_creation_fn(\u001b[39m*\u001b[39;49margs, \u001b[39m*\u001b[39;49m\u001b[39m*\u001b[39;49mkwds)  \u001b[39m# pylint: disable=not-callable\u001b[39;00m\n\u001b[1;32m    927\u001b[0m \u001b[39melif\u001b[39;00m \u001b[39mself\u001b[39m\u001b[39m.\u001b[39m_variable_creation_fn \u001b[39mis\u001b[39;00m \u001b[39mnot\u001b[39;00m \u001b[39mNone\u001b[39;00m:\n\u001b[1;32m    928\u001b[0m   \u001b[39m# Release the lock early so that multiple threads can perform the call\u001b[39;00m\n\u001b[1;32m    929\u001b[0m   \u001b[39m# in parallel.\u001b[39;00m\n\u001b[1;32m    930\u001b[0m   \u001b[39mself\u001b[39m\u001b[39m.\u001b[39m_lock\u001b[39m.\u001b[39mrelease()\n",
      "File \u001b[0;32m~/Engenharia/8Semestre/machine/breastCancerProject/breast_cancer_ML_project/.venv/lib/python3.10/site-packages/tensorflow/python/eager/polymorphic_function/tracing_compiler.py:143\u001b[0m, in \u001b[0;36mTracingCompiler.__call__\u001b[0;34m(self, *args, **kwargs)\u001b[0m\n\u001b[1;32m    140\u001b[0m \u001b[39mwith\u001b[39;00m \u001b[39mself\u001b[39m\u001b[39m.\u001b[39m_lock:\n\u001b[1;32m    141\u001b[0m   (concrete_function,\n\u001b[1;32m    142\u001b[0m    filtered_flat_args) \u001b[39m=\u001b[39m \u001b[39mself\u001b[39m\u001b[39m.\u001b[39m_maybe_define_function(args, kwargs)\n\u001b[0;32m--> 143\u001b[0m \u001b[39mreturn\u001b[39;00m concrete_function\u001b[39m.\u001b[39;49m_call_flat(\n\u001b[1;32m    144\u001b[0m     filtered_flat_args, captured_inputs\u001b[39m=\u001b[39;49mconcrete_function\u001b[39m.\u001b[39;49mcaptured_inputs)\n",
      "File \u001b[0;32m~/Engenharia/8Semestre/machine/breastCancerProject/breast_cancer_ML_project/.venv/lib/python3.10/site-packages/tensorflow/python/eager/polymorphic_function/monomorphic_function.py:1757\u001b[0m, in \u001b[0;36mConcreteFunction._call_flat\u001b[0;34m(self, args, captured_inputs, cancellation_manager)\u001b[0m\n\u001b[1;32m   1753\u001b[0m possible_gradient_type \u001b[39m=\u001b[39m gradients_util\u001b[39m.\u001b[39mPossibleTapeGradientTypes(args)\n\u001b[1;32m   1754\u001b[0m \u001b[39mif\u001b[39;00m (possible_gradient_type \u001b[39m==\u001b[39m gradients_util\u001b[39m.\u001b[39mPOSSIBLE_GRADIENT_TYPES_NONE\n\u001b[1;32m   1755\u001b[0m     \u001b[39mand\u001b[39;00m executing_eagerly):\n\u001b[1;32m   1756\u001b[0m   \u001b[39m# No tape is watching; skip to running the function.\u001b[39;00m\n\u001b[0;32m-> 1757\u001b[0m   \u001b[39mreturn\u001b[39;00m \u001b[39mself\u001b[39m\u001b[39m.\u001b[39m_build_call_outputs(\u001b[39mself\u001b[39;49m\u001b[39m.\u001b[39;49m_inference_function\u001b[39m.\u001b[39;49mcall(\n\u001b[1;32m   1758\u001b[0m       ctx, args, cancellation_manager\u001b[39m=\u001b[39;49mcancellation_manager))\n\u001b[1;32m   1759\u001b[0m forward_backward \u001b[39m=\u001b[39m \u001b[39mself\u001b[39m\u001b[39m.\u001b[39m_select_forward_and_backward_functions(\n\u001b[1;32m   1760\u001b[0m     args,\n\u001b[1;32m   1761\u001b[0m     possible_gradient_type,\n\u001b[1;32m   1762\u001b[0m     executing_eagerly)\n\u001b[1;32m   1763\u001b[0m forward_function, args_with_tangents \u001b[39m=\u001b[39m forward_backward\u001b[39m.\u001b[39mforward()\n",
      "File \u001b[0;32m~/Engenharia/8Semestre/machine/breastCancerProject/breast_cancer_ML_project/.venv/lib/python3.10/site-packages/tensorflow/python/eager/polymorphic_function/monomorphic_function.py:381\u001b[0m, in \u001b[0;36m_EagerDefinedFunction.call\u001b[0;34m(self, ctx, args, cancellation_manager)\u001b[0m\n\u001b[1;32m    379\u001b[0m \u001b[39mwith\u001b[39;00m _InterpolateFunctionError(\u001b[39mself\u001b[39m):\n\u001b[1;32m    380\u001b[0m   \u001b[39mif\u001b[39;00m cancellation_manager \u001b[39mis\u001b[39;00m \u001b[39mNone\u001b[39;00m:\n\u001b[0;32m--> 381\u001b[0m     outputs \u001b[39m=\u001b[39m execute\u001b[39m.\u001b[39;49mexecute(\n\u001b[1;32m    382\u001b[0m         \u001b[39mstr\u001b[39;49m(\u001b[39mself\u001b[39;49m\u001b[39m.\u001b[39;49msignature\u001b[39m.\u001b[39;49mname),\n\u001b[1;32m    383\u001b[0m         num_outputs\u001b[39m=\u001b[39;49m\u001b[39mself\u001b[39;49m\u001b[39m.\u001b[39;49m_num_outputs,\n\u001b[1;32m    384\u001b[0m         inputs\u001b[39m=\u001b[39;49margs,\n\u001b[1;32m    385\u001b[0m         attrs\u001b[39m=\u001b[39;49mattrs,\n\u001b[1;32m    386\u001b[0m         ctx\u001b[39m=\u001b[39;49mctx)\n\u001b[1;32m    387\u001b[0m   \u001b[39melse\u001b[39;00m:\n\u001b[1;32m    388\u001b[0m     outputs \u001b[39m=\u001b[39m execute\u001b[39m.\u001b[39mexecute_with_cancellation(\n\u001b[1;32m    389\u001b[0m         \u001b[39mstr\u001b[39m(\u001b[39mself\u001b[39m\u001b[39m.\u001b[39msignature\u001b[39m.\u001b[39mname),\n\u001b[1;32m    390\u001b[0m         num_outputs\u001b[39m=\u001b[39m\u001b[39mself\u001b[39m\u001b[39m.\u001b[39m_num_outputs,\n\u001b[0;32m   (...)\u001b[0m\n\u001b[1;32m    393\u001b[0m         ctx\u001b[39m=\u001b[39mctx,\n\u001b[1;32m    394\u001b[0m         cancellation_manager\u001b[39m=\u001b[39mcancellation_manager)\n",
      "File \u001b[0;32m~/Engenharia/8Semestre/machine/breastCancerProject/breast_cancer_ML_project/.venv/lib/python3.10/site-packages/tensorflow/python/eager/execute.py:52\u001b[0m, in \u001b[0;36mquick_execute\u001b[0;34m(op_name, num_outputs, inputs, attrs, ctx, name)\u001b[0m\n\u001b[1;32m     50\u001b[0m \u001b[39mtry\u001b[39;00m:\n\u001b[1;32m     51\u001b[0m   ctx\u001b[39m.\u001b[39mensure_initialized()\n\u001b[0;32m---> 52\u001b[0m   tensors \u001b[39m=\u001b[39m pywrap_tfe\u001b[39m.\u001b[39;49mTFE_Py_Execute(ctx\u001b[39m.\u001b[39;49m_handle, device_name, op_name,\n\u001b[1;32m     53\u001b[0m                                       inputs, attrs, num_outputs)\n\u001b[1;32m     54\u001b[0m \u001b[39mexcept\u001b[39;00m core\u001b[39m.\u001b[39m_NotOkStatusException \u001b[39mas\u001b[39;00m e:\n\u001b[1;32m     55\u001b[0m   \u001b[39mif\u001b[39;00m name \u001b[39mis\u001b[39;00m \u001b[39mnot\u001b[39;00m \u001b[39mNone\u001b[39;00m:\n",
      "\u001b[0;31mKeyboardInterrupt\u001b[0m: "
     ]
    }
   ],
   "source": [
    "def run_experiment(model):\n",
    "    optimizer = tfa.optimizers.AdamW(\n",
    "        learning_rate=learning_rate, weight_decay=weight_decay\n",
    "    )\n",
    "\n",
    "    model.compile(\n",
    "        optimizer=optimizer,\n",
    "        loss=keras.losses.SparseCategoricalCrossentropy(from_logits=True),\n",
    "        metrics=[\n",
    "            keras.metrics.SparseCategoricalAccuracy(name=\"accuracy\"),\n",
    "            keras.metrics.SparseTopKCategoricalAccuracy(5, name=\"top-5-accuracy\"),\n",
    "        ],\n",
    "    )\n",
    "\n",
    "    checkpoint_filepath = \"/tmp/checkpoint\"\n",
    "    checkpoint_callback = keras.callbacks.ModelCheckpoint(\n",
    "        checkpoint_filepath,\n",
    "        monitor=\"val_accuracy\",\n",
    "        save_best_only=True,\n",
    "        save_weights_only=True,\n",
    "    )\n",
    "\n",
    "    history = model.fit(\n",
    "        x=x_train,\n",
    "        y=y_train,\n",
    "        batch_size=batch_size,\n",
    "        epochs=num_epochs,\n",
    "        validation_split=0.1,\n",
    "        callbacks=[checkpoint_callback],\n",
    "    )\n",
    "\n",
    "    model.load_weights(checkpoint_filepath)\n",
    "    _, accuracy, top_5_accuracy = model.evaluate(x_test, y_test)\n",
    "    print(f\"Test accuracy: {round(accuracy * 100, 2)}%\")\n",
    "    print(f\"Test top 5 accuracy: {round(top_5_accuracy * 100, 2)}%\")\n",
    "\n",
    "    return history\n",
    "\n",
    "\n",
    "vit_classifier = create_vit_classifier()\n",
    "history = run_experiment(vit_classifier)"
   ]
  },
  {
   "cell_type": "code",
   "execution_count": null,
   "metadata": {},
   "outputs": [],
   "source": []
  }
 ],
 "metadata": {
  "kernelspec": {
   "display_name": ".venv",
   "language": "python",
   "name": "python3"
  },
  "language_info": {
   "codemirror_mode": {
    "name": "ipython",
    "version": 3
   },
   "file_extension": ".py",
   "mimetype": "text/x-python",
   "name": "python",
   "nbconvert_exporter": "python",
   "pygments_lexer": "ipython3",
   "version": "3.10.2"
  },
  "orig_nbformat": 4
 },
 "nbformat": 4,
 "nbformat_minor": 2
}
